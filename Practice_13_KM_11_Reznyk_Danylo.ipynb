{
  "cells": [
    {
      "cell_type": "markdown",
      "metadata": {
        "id": "FMqboNwO4rVs"
      },
      "source": [
        "# **Курс \"Програмування на мові Python\"**"
      ]
    },
    {
      "cell_type": "markdown",
      "metadata": {
        "id": "A2T6MigL5Z06"
      },
      "source": [
        "## **Практичне зайняття №13**\n",
        "\n",
        "### Тема: \"Робота з файлами\""
      ]
    },
    {
      "cell_type": "markdown",
      "metadata": {
        "id": "cfCdgK2zXm7e"
      },
      "source": [
        "### **Завдання 1 (1,5 бали)**\n",
        "\n",
        "У 1939 році друком вийшов роман американського письменика Ернеста Вінсента Райта \"Ґетсбі\". Особливу увагу публіки він здобув через те, що письменник жодного разу не використав у романі літеру \"e\" (роман складається з більше ніж 50,000 слів), яка є найбільш вживаною літерою в англійській мові.\n",
        "\n",
        "Порахуйте кількість входжень кожної літери у текст роману. Виведіть список літер англійського алфавіту, а також інформацію про те, скільки відсотків від усіх літер тексту складає кожна літера алфавіту.\n",
        "\n",
        "Зауваження:\n",
        "\n",
        "1. Програма має ігнорувати будь-які символи, окрім літер.\n",
        "\n",
        "2. Переведіть усі літери у верхній або у нижній регістр.\n",
        "\n",
        "3. Під час виведення відсортуйте літери у порядку зменшення їхнього відсотка. Літера \"e\" має стояти на останньому місці у цьому списку (хоча кілька літер e там все ж таки зустрічається).\n",
        "\n",
        "4. Виведіть перші 5 та останні 5 літер відсортованого списку разом з відсотковими значеннями, що їм відповідають. Відсотки округліть до тисячних."
      ]
    },
    {
      "cell_type": "code",
      "execution_count": 1,
      "metadata": {
        "id": "u4-fHJJ6U462",
        "tags": [
          "outputPrepend"
        ]
      },
      "outputs": [
        {
          "name": "stdout",
          "output_type": "stream",
          "text": [
            "Number of letter in book:  212109\n",
            "Sorted letter:  {'a': 10.952, 'o': 10.419, 'i': 8.826, 'n': 8.597, 't': 8.494, 's': 6.967, 'l': 5.319, 'h': 4.909, 'r': 4.758, 'u': 4.158, 'd': 4.117, 'g': 3.605, 'y': 3.175, 'w': 2.798, 'c': 2.661, 'f': 2.152, 'b': 2.141, 'm': 2.076, 'p': 1.904, 'k': 1.178, 'v': 0.323, 'j': 0.23, 'z': 0.107, 'x': 0.079, 'q': 0.051, 'e': 0.002}\n",
            "First five letters: \n",
            "Letter a: 10.952 %\n",
            "Letter o: 10.419 %\n",
            "Letter i: 8.826 %\n",
            "Letter n: 8.597 %\n",
            "Letter t: 8.494 %\n",
            "Last five letters: \n",
            "Letter j: 0.23 %\n",
            "Letter z: 0.107 %\n",
            "Letter x: 0.079 %\n",
            "Letter q: 0.051 %\n",
            "Letter e: 0.002 %\n"
          ]
        }
      ],
      "source": [
        "import string\n",
        "book = open(\"gadsby.txt\", \"r\")\n",
        "number, all_text = 0, ''\n",
        "all_readlines = book.readlines()[112:]\n",
        "book.close()\n",
        "for i in all_readlines:\n",
        "    all_text += i.lower()\n",
        "for symbol in all_text:\n",
        "    if symbol in string.ascii_lowercase:\n",
        "        number += 1\n",
        "print(\"Number of letter in book: \", number)\n",
        "letters_dict = {}\n",
        "for letter in string.ascii_lowercase:\n",
        "    amount = 0\n",
        "    for symbol in all_text:\n",
        "        if letter == symbol:\n",
        "            amount += 1\n",
        "    letters_dict[letter] = round(amount*100/number, 3)\n",
        "sorted_percent = sorted(letters_dict.items(), key = lambda item: item[1], reverse = True)\n",
        "sorted_dict = {key: values for key, values in sorted_percent}\n",
        "print(\"Sorted letter: \", sorted_dict) \n",
        "print(\"First five letters: \")\n",
        "n = 0\n",
        "for key in sorted_dict.keys():\n",
        "    n += 1\n",
        "    if n<6: \n",
        "        print(f\"Letter {key}: {sorted_dict.get(key)} %\")\n",
        "    if n>len(sorted_percent) - 5:\n",
        "        if n == len(sorted_percent) - 4:\n",
        "            print(\"Last five letters: \")\n",
        "        print(f\"Letter {key}: {sorted_dict.get(key)} %\")\n"
      ]
    },
    {
      "cell_type": "markdown",
      "metadata": {
        "id": "A34oz70eU463"
      },
      "source": [
        "### **Завдання 2 (1,5 бали)**\n",
        "\n",
        "Архів archive.zip містить 140 txt-файлів, в яких збережено інфорамцію про те, якими іменами називали дітей у США в період з 1880 по 2019 рік.\n",
        "\n",
        "Структура рядка кожного файлу така:\n",
        "\n",
        "*name,sex,number_of_occurrences*\n",
        "\n",
        "Напишіть програму, яка зчитуватиме кожен файл та визначатиме окремо чоловічі, окремо жіночі імена, що були найпопулярнішими хоча б в один з років. Далі програма повинна підраховувати, скільки разів кожне з цих імен ставало найпопулярнишим, та виводити ранжовані списки чоловічіх та жіночих імен у вигляді:\n",
        "\n",
        "```\n",
        "Michael 44\n",
        "John 44\n",
        "Robert 17\n",
        "...\n",
        "\n",
        "Mary 76\n",
        "Jennifer 15\n",
        "Emily 12\n",
        "...\n",
        "```"
      ]
    },
    {
      "cell_type": "code",
      "execution_count": 3,
      "metadata": {},
      "outputs": [
        {
          "name": "stdout",
          "output_type": "stream",
          "text": [
            "John 44\n",
            "Michael 44\n",
            "Robert 17\n",
            "Jacob 14\n",
            "James 13\n",
            "Noah 4\n",
            "Liam 3\n",
            "David 1\n",
            "Mary 76\n",
            "Jennifer 15\n",
            "Emily 12\n",
            "Jessica 9\n",
            "Lisa 8\n",
            "Linda 6\n",
            "Emma 6\n",
            "Sophia 3\n",
            "Ashley 2\n",
            "Isabella 2\n",
            "Olivia 1\n"
          ]
        }
      ],
      "source": [
        "import os\n",
        "import re \n",
        "files = os.listdir(\"archive\") \n",
        "sorted_male_dict_1, sorted_male_dict = {}, []\n",
        "sorted_female_dict_1, sorted_female_dict = {}, []\n",
        "\n",
        "for file_name in files: \n",
        "    file = open(\"archive\\\\\" + file_name, \"r\")\n",
        "    all_readlines = file.readlines()\n",
        "    information, male_dict, female_dict = [], {}, {}\n",
        "    for info in all_readlines:\n",
        "        name, sex, num_of_occur = re.split(r\",\", info) \n",
        "        information.append([name, sex, int(num_of_occur)]) \n",
        "    for inf in information:\n",
        "        if inf[1] == \"M\":\n",
        "            male_dict[inf[0]] = inf[2]\n",
        "        else:\n",
        "            female_dict[inf[0]] = inf[2]\n",
        "    sorted_male = sorted(male_dict.items(), key = lambda item: item[1], reverse = True)[0]\n",
        "    sorted_female = sorted(female_dict.items(), key = lambda item: item[1], reverse = True)[0]\n",
        "    male_name, female_name = sorted_male[0], sorted_female[0]\n",
        "    if male_name in sorted_male_dict: \n",
        "        sorted_male_dict_1[male_name] += 1\n",
        "    else: \n",
        "        sorted_male_dict_1[male_name] = 1 \n",
        "    sorted_male_dict.append(male_name)\n",
        "    if female_name in sorted_female_dict: \n",
        "        sorted_female_dict_1[female_name] += 1\n",
        "    else: \n",
        "        sorted_female_dict_1[female_name] = 1 \n",
        "    sorted_female_dict.append(female_name)\n",
        "    file.close()\n",
        "sorted_male_2 = sorted(sorted_male_dict_1.items(), key = lambda item: item[1], reverse = True) \n",
        "sorted_female_2 = sorted(sorted_female_dict_1.items(), key = lambda item: item[1], reverse = True) \n",
        "sorted_male_dict_2 = {key: values for key, values in sorted_male_2}\n",
        "sorted_female_dict_2 = {key: values for key, values in sorted_female_2}\n",
        "for key in sorted_male_dict_2.keys():\n",
        "    print(f\"{key} {sorted_male_dict_2.get(key)}\")\n",
        "for key in sorted_female_dict_2.keys():\n",
        "    print(f\"{key} {sorted_female_dict_2.get(key)}\")\n",
        "\n"
      ]
    }
  ],
  "metadata": {
    "colab": {
      "collapsed_sections": [],
      "name": "Practice_14_KM_01.ipynb",
      "provenance": []
    },
    "kernelspec": {
      "display_name": "Python 3",
      "name": "python3"
    },
    "language_info": {
      "codemirror_mode": {
        "name": "ipython",
        "version": 3
      },
      "file_extension": ".py",
      "mimetype": "text/x-python",
      "name": "python",
      "nbconvert_exporter": "python",
      "pygments_lexer": "ipython3",
      "version": "3.9.1"
    }
  },
  "nbformat": 4,
  "nbformat_minor": 0
}
